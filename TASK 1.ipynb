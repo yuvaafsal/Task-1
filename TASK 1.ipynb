{
 "cells": [
  {
   "cell_type": "markdown",
   "id": "67db3cae",
   "metadata": {},
   "source": [
    "# TASK 1"
   ]
  },
  {
   "cell_type": "markdown",
   "id": "abb93a09",
   "metadata": {},
   "source": [
    "s = \"this is My First Python programming class and i am learNING python string and its function\""
   ]
  },
  {
   "cell_type": "markdown",
   "id": "c4243133",
   "metadata": {},
   "source": [
    "1 . Try to extract data from index one to index 300 with a jump of 3 "
   ]
  },
  {
   "cell_type": "code",
   "execution_count": 5,
   "id": "8ddbcdb7",
   "metadata": {},
   "outputs": [
    {
     "data": {
      "text/plain": [
       "'h   r tnrrmglsnimeNGyosi dtfco'"
      ]
     },
     "execution_count": 5,
     "metadata": {},
     "output_type": "execute_result"
    }
   ],
   "source": [
    "s = \"this is My First Python programming class and i am learNING python string and its function\"\n",
    "s[1:300:3]"
   ]
  },
  {
   "cell_type": "markdown",
   "id": "8de549a2",
   "metadata": {},
   "source": [
    "2. Try to reverse a string without using reverse function"
   ]
  },
  {
   "cell_type": "code",
   "execution_count": 6,
   "id": "7801d4e2",
   "metadata": {},
   "outputs": [
    {
     "data": {
      "text/plain": [
       "'noitcnuf sti dna gnirts nohtyp GNINrael ma i dna ssalc gnimmargorp nohtyP tsriF yM si siht'"
      ]
     },
     "execution_count": 6,
     "metadata": {},
     "output_type": "execute_result"
    }
   ],
   "source": [
    "s[::-1]"
   ]
  },
  {
   "cell_type": "markdown",
   "id": "27632c53",
   "metadata": {},
   "source": [
    "3. Try to split a string after conversion of entire string in uppercase"
   ]
  },
  {
   "cell_type": "code",
   "execution_count": 11,
   "id": "82ff63c7",
   "metadata": {},
   "outputs": [
    {
     "data": {
      "text/plain": [
       "['THIS',\n",
       " 'IS',\n",
       " 'MY',\n",
       " 'FIRST',\n",
       " 'PYTHON',\n",
       " 'PROGRAMMING',\n",
       " 'CLASS',\n",
       " 'AND',\n",
       " 'I',\n",
       " 'AM',\n",
       " 'LEARNING',\n",
       " 'PYTHON',\n",
       " 'STRING',\n",
       " 'AND',\n",
       " 'ITS',\n",
       " 'FUNCTION']"
      ]
     },
     "execution_count": 11,
     "metadata": {},
     "output_type": "execute_result"
    }
   ],
   "source": [
    "s1 = s.upper()\n",
    "s1.split()"
   ]
  },
  {
   "cell_type": "markdown",
   "id": "a6815a58",
   "metadata": {},
   "source": [
    "4. try to convert the whole string into lower case "
   ]
  },
  {
   "cell_type": "code",
   "execution_count": 12,
   "id": "f301ce23",
   "metadata": {},
   "outputs": [
    {
     "data": {
      "text/plain": [
       "'this is my first python programming class and i am learning python string and its function'"
      ]
     },
     "execution_count": 12,
     "metadata": {},
     "output_type": "execute_result"
    }
   ],
   "source": [
    "s.lower()"
   ]
  },
  {
   "cell_type": "markdown",
   "id": "786c81c8",
   "metadata": {},
   "source": [
    "5 . Try to capitalize the whole string "
   ]
  },
  {
   "cell_type": "code",
   "execution_count": 15,
   "id": "481c09e3",
   "metadata": {},
   "outputs": [
    {
     "data": {
      "text/plain": [
       "'This is my first python programming class and i am learning python string and its function'"
      ]
     },
     "execution_count": 15,
     "metadata": {},
     "output_type": "execute_result"
    }
   ],
   "source": [
    "s.capitalize()"
   ]
  },
  {
   "cell_type": "markdown",
   "id": "097f1fc1",
   "metadata": {},
   "source": [
    "6 . Write a diference between isalnum() and isalpha()"
   ]
  },
  {
   "cell_type": "markdown",
   "id": "13b99f56",
   "metadata": {},
   "source": [
    "isalnum() returns True if the string is either alphabets or numbers otherwise it returns False and their should be atleast one character. \n",
    "\n",
    "isalpha() returns True if all the characters in the string are alphabets otherwise it returns False and thier should be atleast one character."
   ]
  },
  {
   "cell_type": "markdown",
   "id": "e6af93cc",
   "metadata": {},
   "source": [
    "7. Try to give an example of expand tab"
   ]
  },
  {
   "cell_type": "code",
   "execution_count": 17,
   "id": "cba0dabe",
   "metadata": {},
   "outputs": [
    {
     "data": {
      "text/plain": [
       "'dhiya   afsal   neethu'"
      ]
     },
     "execution_count": 17,
     "metadata": {},
     "output_type": "execute_result"
    }
   ],
   "source": [
    "myfamily=\"dhiya\\tafsal\\tneethu\"\n",
    "myfamily.expandtabs()"
   ]
  },
  {
   "cell_type": "markdown",
   "id": "de3506a9",
   "metadata": {},
   "source": [
    "8 . Give an example of strip , lstrip and rstrip "
   ]
  },
  {
   "cell_type": "code",
   "execution_count": 23,
   "id": "fe35bde7",
   "metadata": {},
   "outputs": [
    {
     "data": {
      "text/plain": [
       "'dhiyaafsal'"
      ]
     },
     "execution_count": 23,
     "metadata": {},
     "output_type": "execute_result"
    }
   ],
   "source": [
    "st = \"   dhiyaafsal    \"\n",
    "st.strip()\n"
   ]
  },
  {
   "cell_type": "code",
   "execution_count": 24,
   "id": "ca7692e8",
   "metadata": {},
   "outputs": [
    {
     "data": {
      "text/plain": [
       "'dhiyaafsal    '"
      ]
     },
     "execution_count": 24,
     "metadata": {},
     "output_type": "execute_result"
    }
   ],
   "source": [
    "st.lstrip()"
   ]
  },
  {
   "cell_type": "code",
   "execution_count": 25,
   "id": "445c7f2b",
   "metadata": {},
   "outputs": [
    {
     "data": {
      "text/plain": [
       "'   dhiyaafsal'"
      ]
     },
     "execution_count": 25,
     "metadata": {},
     "output_type": "execute_result"
    }
   ],
   "source": [
    "st.rstrip()"
   ]
  },
  {
   "cell_type": "markdown",
   "id": "02cce97f",
   "metadata": {},
   "source": [
    "9.  Replace a string charecter by another charector by taking your own example \n",
    "\"sudhanshu\""
   ]
  },
  {
   "cell_type": "code",
   "execution_count": 30,
   "id": "4f6ce5b1",
   "metadata": {},
   "outputs": [
    {
     "data": {
      "text/plain": [
       "'@udhan@hu'"
      ]
     },
     "execution_count": 30,
     "metadata": {},
     "output_type": "execute_result"
    }
   ],
   "source": [
    "s9 =\"sudhanshu\"\n",
    "s9.replace('s','@')"
   ]
  },
  {
   "cell_type": "code",
   "execution_count": 31,
   "id": "6bcc1b03",
   "metadata": {},
   "outputs": [
    {
     "data": {
      "text/plain": [
       "'dhiy##fs#l'"
      ]
     },
     "execution_count": 31,
     "metadata": {},
     "output_type": "execute_result"
    }
   ],
   "source": [
    "myexample=\"dhiyaafsal\"\n",
    "myexample.replace('a','#')"
   ]
  },
  {
   "cell_type": "markdown",
   "id": "b674b7a1",
   "metadata": {},
   "source": [
    "10 . Try  to give a defination of string center function with and exmple \n",
    "center(length,'fill element') function returns the centered string in 'length value'with 'fill element character' in start and end ( default fill element is 'space'."
   ]
  },
  {
   "cell_type": "code",
   "execution_count": 34,
   "id": "7256ad22",
   "metadata": {},
   "outputs": [
    {
     "data": {
      "text/plain": [
       "'$$$$$$$$$$$$$$$$$$$$$$$$$$$$$$$$$$$$$$$$$$$$$$$dhiya$$$$$$$$$$$$$$$$$$$$$$$$$$$$$$$$$$$$$$$$$$$$$$$$'"
      ]
     },
     "execution_count": 34,
     "metadata": {},
     "output_type": "execute_result"
    }
   ],
   "source": [
    "s10='dhiya'\n",
    "s10.center(100,'$')"
   ]
  },
  {
   "cell_type": "code",
   "execution_count": 35,
   "id": "e81ead05",
   "metadata": {},
   "outputs": [
    {
     "data": {
      "text/plain": [
       "'                                               dhiya                                                '"
      ]
     },
     "execution_count": 35,
     "metadata": {},
     "output_type": "execute_result"
    }
   ],
   "source": [
    "s10.center(100)"
   ]
  },
  {
   "cell_type": "markdown",
   "id": "99ab17fb",
   "metadata": {},
   "source": [
    "11 . Write your own definition of compiler and interpretor without copy paste from internet in your own language\n",
    "compiler translates the whole 'high level language program' in a single strech into 'machine code or object code' where as the ingterpretor translates line by line translation of the source code into machine code. compiler shows the error at last and it is faster compared to interpreter. interpreter gives error line by line and comparitively slower in execution."
   ]
  },
  {
   "cell_type": "markdown",
   "id": "a87077ab",
   "metadata": {},
   "source": [
    "12 . Python is a interpreted of compiled language give a clear ans with your understanding\n",
    "Python is a compiled interpreted language. When a python program runs, first it checks the program syntax and then compiles the data into byte codes and loaded into system memory. At last the from the system memory the compiled bytecodes interpreted for program execution.\n"
   ]
  }
 ],
 "metadata": {
  "kernelspec": {
   "display_name": "Python 3 (ipykernel)",
   "language": "python",
   "name": "python3"
  },
  "language_info": {
   "codemirror_mode": {
    "name": "ipython",
    "version": 3
   },
   "file_extension": ".py",
   "mimetype": "text/x-python",
   "name": "python",
   "nbconvert_exporter": "python",
   "pygments_lexer": "ipython3",
   "version": "3.9.12"
  }
 },
 "nbformat": 4,
 "nbformat_minor": 5
}
